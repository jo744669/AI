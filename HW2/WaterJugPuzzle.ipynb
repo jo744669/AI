{
  "nbformat": 4,
  "nbformat_minor": 0,
  "metadata": {
    "colab": {
      "provenance": [],
      "authorship_tag": "ABX9TyMuJEtUSvqCqu2KAJC27WDo",
      "include_colab_link": true
    },
    "kernelspec": {
      "name": "python3",
      "display_name": "Python 3"
    },
    "language_info": {
      "name": "python"
    }
  },
  "cells": [
    {
      "cell_type": "markdown",
      "metadata": {
        "id": "view-in-github",
        "colab_type": "text"
      },
      "source": [
        "<a href=\"https://colab.research.google.com/github/jo744669/AI/blob/main/HW2/WaterJugPuzzle.ipynb\" target=\"_parent\"><img src=\"https://colab.research.google.com/assets/colab-badge.svg\" alt=\"Open In Colab\"/></a>"
      ]
    },
    {
      "cell_type": "code",
      "execution_count": 4,
      "metadata": {
        "id": "OXL95d32pgl1"
      },
      "outputs": [],
      "source": [
        "class WaterJugPuzzle():\n",
        "  #model states using vector-> left property for 5L jug and right property for 3L jug\n",
        "  def __init__(self):\n",
        "    self.five = 0\n",
        "    self.three = 0\n",
        "\n",
        "  #check that the jugs have not been overfilled and state is acceptable\n",
        "  def state_ok(self):\n",
        "    return not (self.five > 5 or self.three > 3)\n",
        "\n",
        "  #save the current state privately\n",
        "  def save_state(self):\n",
        "    self.__five = self.five\n",
        "    self.__three = self.three\n",
        "\n",
        "  #undo previous state\n",
        "  def undo_state(self):\n",
        "    self.five = self.__five\n",
        "    self.three = self.__three\n",
        "\n",
        "  #############################################################\n",
        "  # Rule 1: Can fill the 5L jug in its entirety if it is empty\n",
        "  #############################################################\n",
        "  def R1_fill_5L_jug(self):\n",
        "    self.save_state()\n",
        "    if self.five == 0:\n",
        "      self.five = 5\n",
        "      if not self.state_ok(): self.undo_state()\n",
        "    else:\n",
        "      raise ValueError('Tried to fill 5L jug when it was not empty which is not allowed')\n",
        "\n",
        "  #############################################################\n",
        "  # Rule 2: Can fill the 3L jug in its entirety if it is empty\n",
        "  #############################################################\n",
        "  def R2_fill_3L_jug(self):\n",
        "    self.save_state()\n",
        "    if self.three == 0:\n",
        "      self.three = 3\n",
        "      if not self.state_ok(): self.undo_state()\n",
        "    else:\n",
        "      raise ValueError('Tried to fill 3L jug when it was not empty which is not allowed')\n",
        "\n",
        "  #############################################################\n",
        "  # Rule 3: Can dump 5L jug in its entirety if it's not empty\n",
        "  #############################################################\n",
        "  def R3_dump_5L_jug(self):\n",
        "    self.save_state()\n",
        "    if not self.five == 0:\n",
        "      self.five = 0\n",
        "      if not self.state_ok(): self.undo_state()\n",
        "    else:\n",
        "      raise ValueError('Tried to dump 5L jug when there was nothing in it')\n",
        "\n",
        "  #############################################################\n",
        "  # Rule 4: Can dump 3L jug in its entirety if it's not empty\n",
        "  #############################################################\n",
        "  def R4_dump_3L_jug(self):\n",
        "    self.save_state()\n",
        "    if not self.three == 0:\n",
        "      self.three = 0\n",
        "      if not self.state_ok(): self.undo_state()\n",
        "    else:\n",
        "      raise ValueError('Tried to dump 3L jug when there was nothing in it')\n",
        "\n",
        "  #########################################################################\n",
        "  # Rule 5: Can fill the 3L jug from the 5L jug without letting it overflow\n",
        "  #########################################################################\n",
        "  def R5_fill_3L_from_5L(self):\n",
        "    self.save_state()\n",
        "    if self.five == 0:\n",
        "      raise ValueError('5L jug is empty so cannot be used to fill 3L jug')\n",
        "    else:\n",
        "      if not self.three == 3:\n",
        "        if self.three == 0:\n",
        "          if self.five < 3:\n",
        "            self.three = self.five\n",
        "            self.five = 0\n",
        "          else:\n",
        "            self.five = self.five - 3\n",
        "            self.three = 3\n",
        "          if not self.state_ok(): self.undo_state()\n",
        "        else:\n",
        "          self.five = self.five - (3 - self.three)\n",
        "          self.three = 3\n",
        "          if not self.state_ok(): self.undo_state()\n",
        "      else:\n",
        "        raise ValueError('Tried to fill 3L jug from 5L jug when 3L jug was already full')\n",
        "\n",
        "  #Display current values of both jugs\n",
        "  def print_state(self):\n",
        "    print(\"{f}, {t}\".format(f=self.five, t=self.three))"
      ]
    },
    {
      "cell_type": "code",
      "source": [
        "#FORMING THE SOLUTION\n",
        "wj = WaterJugPuzzle()\n",
        "\n",
        "#print initial state\n",
        "wj.print_state()\n",
        "\n",
        "#fill the 5L jug\n",
        "print(\"----------------------------------\")\n",
        "wj.R1_fill_5L_jug()\n",
        "wj.print_state()\n",
        "\n",
        "#dump 5L jug contents into 3L jug\n",
        "print(\"----------------------------------\")\n",
        "wj.R5_fill_3L_from_5L()\n",
        "wj.print_state()\n",
        "\n",
        "#empty 3L jug\n",
        "print(\"----------------------------------\")\n",
        "wj.R4_dump_3L_jug()\n",
        "wj.print_state()\n",
        "\n",
        "#dump 5L jug contents into 3L jug\n",
        "print(\"----------------------------------\")\n",
        "wj.R5_fill_3L_from_5L()\n",
        "wj.print_state()\n",
        "\n",
        "#fill 5L jug\n",
        "print(\"----------------------------------\")\n",
        "wj.R1_fill_5L_jug()\n",
        "wj.print_state()\n",
        "\n",
        "#fill 3L jug from 5L jug\n",
        "print(\"----------------------------------\")\n",
        "wj.R5_fill_3L_from_5L()\n",
        "wj.print_state()"
      ],
      "metadata": {
        "colab": {
          "base_uri": "https://localhost:8080/"
        },
        "id": "iobRcyW2rXEX",
        "outputId": "c47cf349-026b-4ea7-d6b1-68e18922669c"
      },
      "execution_count": 5,
      "outputs": [
        {
          "output_type": "stream",
          "name": "stdout",
          "text": [
            "0, 0\n",
            "----------------------------------\n",
            "5, 0\n",
            "----------------------------------\n",
            "2, 3\n",
            "----------------------------------\n",
            "2, 0\n",
            "----------------------------------\n",
            "0, 2\n",
            "----------------------------------\n",
            "5, 2\n",
            "----------------------------------\n",
            "4, 3\n"
          ]
        }
      ]
    },
    {
      "cell_type": "markdown",
      "source": [
        "Assignment 2: Coding the Water Jug Puzzle in Python\n",
        "\n",
        "*   2 jugs of water: 5L and 3L\n",
        "*   Goal: 4L in the 5L jug\n",
        "*   Can fill and empty the jugs as much as you want\n",
        "*   Create state space representation and write the rules"
      ],
      "metadata": {
        "id": "6_M3lGMwpsji"
      }
    }
  ]
}