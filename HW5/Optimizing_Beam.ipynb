{
  "cells": [
    {
      "cell_type": "markdown",
      "metadata": {
        "id": "view-in-github",
        "colab_type": "text"
      },
      "source": [
        "<a href=\"https://colab.research.google.com/github/jo744669/AI/blob/main/HW5/Optimizing_Beam.ipynb\" target=\"_parent\"><img src=\"https://colab.research.google.com/assets/colab-badge.svg\" alt=\"Open In Colab\"/></a>"
      ]
    },
    {
      "cell_type": "markdown",
      "metadata": {
        "id": "hVN6cxWxuVxe"
      },
      "source": [
        "Author: Jillian O'Connell\n",
        "\n",
        "Purpose: To optimize the design of an I-Beam for the most stability possible"
      ]
    },
    {
      "cell_type": "code",
      "execution_count": null,
      "metadata": {
        "id": "zijsQB9V9Gl-"
      },
      "outputs": [],
      "source": [
        "# genetic algorithms\n",
        "install.packages('GA')\n",
        "\n",
        "# statistical graphics\n",
        "install.packages('ggplot2')\n",
        "\n",
        "# used to create plots and charts, including line charts\n",
        "# scatter plots, bar charts , histograms, etc.\n",
        "install.packages('plotly')"
      ]
    },
    {
      "cell_type": "code",
      "execution_count": null,
      "metadata": {
        "id": "3Y_RQZHl9Cs6"
      },
      "outputs": [],
      "source": [
        "# Loading the needed libraries\n",
        "\n",
        "library(GA)\n",
        "library(plotly)"
      ]
    },
    {
      "cell_type": "markdown",
      "source": [
        "Below is the code for each time the genetic algorithm was run on a function. In every case, the population size was 50, the percent of crossover was75%, the percent of mutation was 0.1%, and the number of generations was 100. The summary and graph produced by each of these experiments can be found in the \"Technical Report\" located in the GitHub repo.\n",
        "\n",
        "\n",
        "The below code focuses on minimizing on the first function (cross section area) given the 4 x values as the parameters."
      ],
      "metadata": {
        "id": "Y3Ye58tucqgS"
      }
    },
    {
      "cell_type": "code",
      "execution_count": null,
      "metadata": {
        "id": "pEqdtVHktdLc"
      },
      "outputs": [],
      "source": [
        "\n",
        "func1 <- function(x1, x2, x3, x4)\n",
        "{\n",
        "    2 * x2 * x4 + x3 * (x1 -(2 * x4))\n",
        "}\n",
        "\n",
        "# Parameters constraints\n",
        "x1 <- seq(10, 80, by = 0.5)\n",
        "x2 <- seq(10, 50, by = 0.5)\n",
        "x3 <- seq(0.9, 5.0, by = 0.1)\n",
        "x4 <- seq(0.9, 5.0, by = 0.1)\n",
        "\n",
        "# Multiple func2 by -1 to minimize the function\n",
        "\n",
        "GA1 <- ga(type = \"real-valued\",\n",
        "         fitness =  function(x) -func1(x[1], x[2], x[3], x[4]),\n",
        "         lower = c(10, 10, 0.9, 0.9), upper = c(80, 50, 5.0, 5.0),\n",
        "         popSize = 50, pcrossover = 0.75, pmutation = 0.001,\n",
        "         maxiter = 100, run = 100)\n",
        "\n",
        "summary(GA1)\n",
        "\n",
        "plot(GA1)\n"
      ]
    },
    {
      "cell_type": "markdown",
      "source": [
        "The below code focuses on minimizing only the second function (static deflection) given the 4 x values as parameters."
      ],
      "metadata": {
        "id": "fIfNI43bdKgV"
      }
    },
    {
      "cell_type": "code",
      "execution_count": null,
      "metadata": {
        "colab": {
          "background_save": true
        },
        "id": "kyf_8F-w9gV9"
      },
      "outputs": [],
      "source": [
        "func2 <- function(x1, x2, x3, x4)\n",
        "{\n",
        "    60000 / (x3 * (x1 - (2 * x4))^3 + (2 * x2 * x4) * ((4 * x4^2) + (3 * x1) * (x1 - (2 * x4))))\n",
        "}\n",
        "\n",
        "# Parameters constraints\n",
        "x1 <- seq(10, 80, by = 0.5)\n",
        "x2 <- seq(10, 50, by = 0.5)\n",
        "x3 <- seq(0.9, 5.0, by = 0.1)\n",
        "x4 <- seq(0.9, 5.0, by = 0.1)\n",
        "\n",
        "GA2 <- ga(type = \"real-valued\",\n",
        "         fitness =  function(x) -func2(x[1], x[2], x[3], x[4]),\n",
        "         lower = c(10, 10, 0.9, 0.9), upper = c(80, 50, 5.0, 5.0),\n",
        "         popSize = 50, pcrossover = 0.75, pmutation = 0.001,\n",
        "         maxiter = 100, run = 100)\n",
        "\n",
        "summary(GA2)\n",
        "\n",
        "plot(GA2)"
      ]
    },
    {
      "cell_type": "markdown",
      "source": [
        "The below code focuses on minimizing both functions combined using the weighted function. In this case, the function is given a 5th parameter - a - to experiment with. a represents the weight of the first function (cross section) whereas 1-a is used to represent b which is the weight of the second function (static deflection)."
      ],
      "metadata": {
        "id": "3MwsRCm_dRUH"
      }
    },
    {
      "cell_type": "code",
      "source": [
        "func3 <- function(x1, x2, x3, x4, a)\n",
        "{\n",
        "    (a * ((2 * x2) * x4) + (x3 * (x1 -(2 * x4)))) + ((1-a) * (60000 / (x3 * (x1 - (2 * x4))^3 + (2 * x2 * x4) * ((4 * x4^2) + (3 * x1) * (x1 - (2 * x4))))))\n",
        "}\n",
        "\n",
        "# Parameters constraints\n",
        "x1 <- seq(10, 80, by = 0.5)\n",
        "x2 <- seq(10, 50, by = 0.5)\n",
        "x3 <- seq(0.9, 5.0, by = 0.1)\n",
        "x4 <- seq(0.9, 5.0, by = 0.1)\n",
        "a <- seq(0, 1, by = 0.1)\n",
        "\n",
        "GA3 <- ga(type = \"real-valued\",\n",
        "         fitness =  function(x) -func3(x[1], x[2], x[3], x[4], a),\n",
        "         lower = c(10, 10, 0.9, 0.9, 0), upper = c(80, 50, 5.0, 5.0, 1),\n",
        "         popSize = 50, pcrossover = 0.75, pmutation = 0.001,\n",
        "         maxiter = 100, run = 100)\n",
        "\n",
        "summary(GA3)\n",
        "\n",
        "plot(GA3)"
      ],
      "metadata": {
        "id": "YI-YjkMAV0I-"
      },
      "execution_count": null,
      "outputs": []
    },
    {
      "cell_type": "markdown",
      "source": [
        "Below begins the experimentation. Each code block represents a different combination of a and b values where 0 <= a <= 1 and 0 <= b <= 1 keeping in mind that a + b = 1.\n",
        "\n",
        "Below is the code for the experiment where a = 0.1 and b = 0.9 giving the first function a 10% weight and the second function a 90% weight."
      ],
      "metadata": {
        "id": "xVPAPDyndkKD"
      }
    },
    {
      "cell_type": "code",
      "source": [
        "func3 <- function(x1, x2, x3, x4)\n",
        "{\n",
        "    (0.1 * ((2 * x2) * x4) + (x3 * (x1 -(2 * x4)))) + (0.9 * (60000 / (x3 * (x1 - (2 * x4))^3 + (2 * x2 * x4) * ((4 * x4^2) + (3 * x1) * (x1 - (2 * x4))))))\n",
        "}\n",
        "\n",
        "# Parameters constraints\n",
        "x1 <- seq(10, 80, by = 0.5)\n",
        "x2 <- seq(10, 50, by = 0.5)\n",
        "x3 <- seq(0.9, 5.0, by = 0.1)\n",
        "x4 <- seq(0.9, 5.0, by = 0.1)\n",
        "#a = 0.1\n",
        "#b = 0.9\n",
        "\n",
        "GA3 <- ga(type = \"real-valued\",\n",
        "         fitness =  function(x) -func3(x[1], x[2], x[3], x[4]),\n",
        "         lower = c(10, 10, 0.9, 0.9), upper = c(80, 50, 5.0, 5.0),\n",
        "         popSize = 50, pcrossover = 0.75, pmutation = 0.001,\n",
        "         maxiter = 100, run = 100)\n",
        "\n",
        "summary(GA3)\n",
        "\n",
        "plot(GA3)"
      ],
      "metadata": {
        "id": "o6jNzI2KV35q"
      },
      "execution_count": null,
      "outputs": []
    },
    {
      "cell_type": "markdown",
      "source": [
        "Below is the code for the experiment where a = 0.2 and b = 0.8 giving the first function a 20% weight and the second function a 80% weight."
      ],
      "metadata": {
        "id": "tdf64U-3d2Gd"
      }
    },
    {
      "cell_type": "code",
      "source": [
        "func3 <- function(x1, x2, x3, x4)\n",
        "{\n",
        "    (0.2 * ((2 * x2) * x4) + (x3 * (x1 -(2 * x4)))) + (0.8 * (60000 / (x3 * (x1 - (2 * x4))^3 + (2 * x2 * x4) * ((4 * x4^2) + (3 * x1) * (x1 - (2 * x4))))))\n",
        "}\n",
        "\n",
        "# Parameters constraints\n",
        "x1 <- seq(10, 80, by = 0.5)\n",
        "x2 <- seq(10, 50, by = 0.5)\n",
        "x3 <- seq(0.9, 5.0, by = 0.1)\n",
        "x4 <- seq(0.9, 5.0, by = 0.1)\n",
        "#a = 0.2\n",
        "#b = 0.8\n",
        "\n",
        "GA3 <- ga(type = \"real-valued\",\n",
        "         fitness =  function(x) -func3(x[1], x[2], x[3], x[4]),\n",
        "         lower = c(10, 10, 0.9, 0.9), upper = c(80, 50, 5.0, 5.0),\n",
        "         popSize = 50, pcrossover = 0.75, pmutation = 0.001,\n",
        "         maxiter = 100, run = 100)\n",
        "\n",
        "summary(GA3)\n",
        "\n",
        "plot(GA3)"
      ],
      "metadata": {
        "id": "aqzjI2SMWtjM"
      },
      "execution_count": null,
      "outputs": []
    },
    {
      "cell_type": "markdown",
      "source": [
        "Below is the code for the experiment where a = 0.3 and b = 0.7 giving the first function a 30% weight and the second function a 70% weight."
      ],
      "metadata": {
        "id": "zqK4754-d58a"
      }
    },
    {
      "cell_type": "code",
      "source": [
        "func3 <- function(x1, x2, x3, x4)\n",
        "{\n",
        "    (0.3 * ((2 * x2) * x4) + (x3 * (x1 -(2 * x4)))) + (0.7 * (60000 / (x3 * (x1 - (2 * x4))^3 + (2 * x2 * x4) * ((4 * x4^2) + (3 * x1) * (x1 - (2 * x4))))))\n",
        "}\n",
        "\n",
        "# Parameters constraints\n",
        "x1 <- seq(10, 80, by = 0.5)\n",
        "x2 <- seq(10, 50, by = 0.5)\n",
        "x3 <- seq(0.9, 5.0, by = 0.1)\n",
        "x4 <- seq(0.9, 5.0, by = 0.1)\n",
        "#a = 0.3\n",
        "#b = 0.7\n",
        "\n",
        "GA3 <- ga(type = \"real-valued\",\n",
        "         fitness =  function(x) -func3(x[1], x[2], x[3], x[4]),\n",
        "         lower = c(10, 10, 0.9, 0.9), upper = c(80, 50, 5.0, 5.0),\n",
        "         popSize = 50, pcrossover = 0.75, pmutation = 0.001,\n",
        "         maxiter = 100, run = 100)\n",
        "\n",
        "summary(GA3)\n",
        "\n",
        "plot(GA3)"
      ],
      "metadata": {
        "id": "87bDczi_W_Uz"
      },
      "execution_count": null,
      "outputs": []
    },
    {
      "cell_type": "markdown",
      "source": [
        "Below is the code for the experiment where a = 0.4 and b = 0.6 giving the first function a 40% weight and the second function a 60% weight."
      ],
      "metadata": {
        "id": "R5Ha3yymd9zo"
      }
    },
    {
      "cell_type": "code",
      "source": [
        "func3 <- function(x1, x2, x3, x4)\n",
        "{\n",
        "    (0.4 * ((2 * x2) * x4) + (x3 * (x1 -(2 * x4)))) + (0.6 * (60000 / (x3 * (x1 - (2 * x4))^3 + (2 * x2 * x4) * ((4 * x4^2) + (3 * x1) * (x1 - (2 * x4))))))\n",
        "}\n",
        "\n",
        "# Parameters constraints\n",
        "x1 <- seq(10, 80, by = 0.5)\n",
        "x2 <- seq(10, 50, by = 0.5)\n",
        "x3 <- seq(0.9, 5.0, by = 0.1)\n",
        "x4 <- seq(0.9, 5.0, by = 0.1)\n",
        "#a = 0.4\n",
        "#b = 0.6\n",
        "\n",
        "GA3 <- ga(type = \"real-valued\",\n",
        "         fitness =  function(x) -func3(x[1], x[2], x[3], x[4]),\n",
        "         lower = c(10, 10, 0.9, 0.9), upper = c(80, 50, 5.0, 5.0),\n",
        "         popSize = 50, pcrossover = 0.75, pmutation = 0.001,\n",
        "         maxiter = 100, run = 100)\n",
        "\n",
        "summary(GA3)\n",
        "\n",
        "plot(GA3)"
      ],
      "metadata": {
        "id": "IWiRpynIXOTk"
      },
      "execution_count": null,
      "outputs": []
    },
    {
      "cell_type": "markdown",
      "source": [
        "Below is the code for the experiment where a = 0.5 and b = 0.5 giving the first function a 50% weight and the second function a 50% weight."
      ],
      "metadata": {
        "id": "6wZF0znqeBXL"
      }
    },
    {
      "cell_type": "code",
      "source": [
        "func3 <- function(x1, x2, x3, x4)\n",
        "{\n",
        "    (0.5 * ((2 * x2) * x4) + (x3 * (x1 -(2 * x4)))) + (0.5 * (60000 / (x3 * (x1 - (2 * x4))^3 + (2 * x2 * x4) * ((4 * x4^2) + (3 * x1) * (x1 - (2 * x4))))))\n",
        "}\n",
        "\n",
        "# Parameters constraints\n",
        "x1 <- seq(10, 80, by = 0.5)\n",
        "x2 <- seq(10, 50, by = 0.5)\n",
        "x3 <- seq(0.9, 5.0, by = 0.1)\n",
        "x4 <- seq(0.9, 5.0, by = 0.1)\n",
        "#a = 0.5\n",
        "#b = 0.5\n",
        "\n",
        "GA3 <- ga(type = \"real-valued\",\n",
        "         fitness =  function(x) -func3(x[1], x[2], x[3], x[4]),\n",
        "         lower = c(10, 10, 0.9, 0.9), upper = c(80, 50, 5.0, 5.0),\n",
        "         popSize = 50, pcrossover = 0.75, pmutation = 0.001,\n",
        "         maxiter = 100, run = 100)\n",
        "\n",
        "summary(GA3)\n",
        "\n",
        "plot(GA3)"
      ],
      "metadata": {
        "id": "xSQVrSnDXeO6"
      },
      "execution_count": null,
      "outputs": []
    },
    {
      "cell_type": "markdown",
      "source": [
        "Below is the code for the experiment where a = 0.6 and b = 0.4 giving the first function a 60% weight and the second function a 40% weight."
      ],
      "metadata": {
        "id": "LMKzoeKSeEqv"
      }
    },
    {
      "cell_type": "code",
      "source": [
        "func3 <- function(x1, x2, x3, x4)\n",
        "{\n",
        "    (0.6 * ((2 * x2) * x4) + (x3 * (x1 -(2 * x4)))) + (0.4 * (60000 / (x3 * (x1 - (2 * x4))^3 + (2 * x2 * x4) * ((4 * x4^2) + (3 * x1) * (x1 - (2 * x4))))))\n",
        "}\n",
        "\n",
        "# Parameters constraints\n",
        "x1 <- seq(10, 80, by = 0.5)\n",
        "x2 <- seq(10, 50, by = 0.5)\n",
        "x3 <- seq(0.9, 5.0, by = 0.1)\n",
        "x4 <- seq(0.9, 5.0, by = 0.1)\n",
        "#a = 0.6\n",
        "#b = 0.4\n",
        "\n",
        "GA3 <- ga(type = \"real-valued\",\n",
        "         fitness =  function(x) -func3(x[1], x[2], x[3], x[4]),\n",
        "         lower = c(10, 10, 0.9, 0.9), upper = c(80, 50, 5.0, 5.0),\n",
        "         popSize = 50, pcrossover = 0.75, pmutation = 0.001,\n",
        "         maxiter = 100, run = 100)\n",
        "\n",
        "summary(GA3)\n",
        "\n",
        "plot(GA3)"
      ],
      "metadata": {
        "id": "nhtfoDiSXsqz"
      },
      "execution_count": null,
      "outputs": []
    },
    {
      "cell_type": "markdown",
      "source": [
        "Below is the code for the experiment where a = 0.7 and b = 0.3 giving the first function a 70% weight and the second function a 30% weight."
      ],
      "metadata": {
        "id": "N7lUOgyGeIvP"
      }
    },
    {
      "cell_type": "code",
      "source": [
        "func3 <- function(x1, x2, x3, x4)\n",
        "{\n",
        "    (0.7 * ((2 * x2) * x4) + (x3 * (x1 -(2 * x4)))) + (0.3 * (60000 / (x3 * (x1 - (2 * x4))^3 + (2 * x2 * x4) * ((4 * x4^2) + (3 * x1) * (x1 - (2 * x4))))))\n",
        "}\n",
        "\n",
        "# Parameters constraints\n",
        "x1 <- seq(10, 80, by = 0.5)\n",
        "x2 <- seq(10, 50, by = 0.5)\n",
        "x3 <- seq(0.9, 5.0, by = 0.1)\n",
        "x4 <- seq(0.9, 5.0, by = 0.1)\n",
        "#a = 0.7\n",
        "#b = 0.3\n",
        "\n",
        "GA3 <- ga(type = \"real-valued\",\n",
        "         fitness =  function(x) -func3(x[1], x[2], x[3], x[4]),\n",
        "         lower = c(10, 10, 0.9, 0.9), upper = c(80, 50, 5.0, 5.0),\n",
        "         popSize = 50, pcrossover = 0.75, pmutation = 0.001,\n",
        "         maxiter = 100, run = 100)\n",
        "\n",
        "summary(GA3)\n",
        "\n",
        "plot(GA3)"
      ],
      "metadata": {
        "id": "2ADmHH86X8yQ"
      },
      "execution_count": null,
      "outputs": []
    },
    {
      "cell_type": "markdown",
      "source": [
        "Below is the code for the experiment where a = 0.8 and b = 0.2 giving the first function a 80% weight and the second function a 20% weight."
      ],
      "metadata": {
        "id": "GIV5Cq_WeMSp"
      }
    },
    {
      "cell_type": "code",
      "source": [
        "func3 <- function(x1, x2, x3, x4)\n",
        "{\n",
        "    (0.8 * ((2 * x2) * x4) + (x3 * (x1 -(2 * x4)))) + (0.2 * (60000 / (x3 * (x1 - (2 * x4))^3 + (2 * x2 * x4) * ((4 * x4^2) + (3 * x1) * (x1 - (2 * x4))))))\n",
        "}\n",
        "\n",
        "# Parameters constraints\n",
        "x1 <- seq(10, 80, by = 0.5)\n",
        "x2 <- seq(10, 50, by = 0.5)\n",
        "x3 <- seq(0.9, 5.0, by = 0.1)\n",
        "x4 <- seq(0.9, 5.0, by = 0.1)\n",
        "#a = 0.8\n",
        "#b = 0.2\n",
        "\n",
        "GA3 <- ga(type = \"real-valued\",\n",
        "         fitness =  function(x) -func3(x[1], x[2], x[3], x[4]),\n",
        "         lower = c(10, 10, 0.9, 0.9), upper = c(80, 50, 5.0, 5.0),\n",
        "         popSize = 50, pcrossover = 0.75, pmutation = 0.001,\n",
        "         maxiter = 100, run = 100)\n",
        "\n",
        "summary(GA3)\n",
        "\n",
        "plot(GA3)"
      ],
      "metadata": {
        "id": "hwS59_NgYMLf"
      },
      "execution_count": null,
      "outputs": []
    },
    {
      "cell_type": "markdown",
      "source": [
        "Below is the code for the experiment where a = 0.9 and b = 0.1 giving the first function a 90% weight and the second function a 10% weight."
      ],
      "metadata": {
        "id": "WSJ8FX9keRtt"
      }
    },
    {
      "cell_type": "code",
      "source": [
        "func3 <- function(x1, x2, x3, x4)\n",
        "{\n",
        "    (0.9 * ((2 * x2) * x4) + (x3 * (x1 -(2 * x4)))) + (0.1 * (60000 / (x3 * (x1 - (2 * x4))^3 + (2 * x2 * x4) * ((4 * x4^2) + (3 * x1) * (x1 - (2 * x4))))))\n",
        "}\n",
        "\n",
        "# Parameters constraints\n",
        "x1 <- seq(10, 80, by = 0.5)\n",
        "x2 <- seq(10, 50, by = 0.5)\n",
        "x3 <- seq(0.9, 5.0, by = 0.1)\n",
        "x4 <- seq(0.9, 5.0, by = 0.1)\n",
        "#a = 0.9\n",
        "#b = 0.1\n",
        "\n",
        "GA3 <- ga(type = \"real-valued\",\n",
        "         fitness =  function(x) -func3(x[1], x[2], x[3], x[4]),\n",
        "         lower = c(10, 10, 0.9, 0.9), upper = c(80, 50, 5.0, 5.0),\n",
        "         popSize = 50, pcrossover = 0.75, pmutation = 0.001,\n",
        "         maxiter = 100, run = 100)\n",
        "\n",
        "summary(GA3)\n",
        "\n",
        "plot(GA3)"
      ],
      "metadata": {
        "id": "cV3OBob_YcTJ"
      },
      "execution_count": null,
      "outputs": []
    }
  ],
  "metadata": {
    "colab": {
      "provenance": [],
      "authorship_tag": "ABX9TyNFI9UjYHQueTYYtlbCyxe/",
      "include_colab_link": true
    },
    "kernelspec": {
      "display_name": "R",
      "name": "ir"
    },
    "language_info": {
      "name": "R"
    }
  },
  "nbformat": 4,
  "nbformat_minor": 0
}