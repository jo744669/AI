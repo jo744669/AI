{
  "nbformat": 4,
  "nbformat_minor": 0,
  "metadata": {
    "colab": {
      "provenance": [],
      "authorship_tag": "ABX9TyM5PZsnkDvYNbuw6cPhaaTQ",
      "include_colab_link": true
    },
    "kernelspec": {
      "name": "python3",
      "display_name": "Python 3"
    },
    "language_info": {
      "name": "python"
    }
  },
  "cells": [
    {
      "cell_type": "markdown",
      "metadata": {
        "id": "view-in-github",
        "colab_type": "text"
      },
      "source": [
        "<a href=\"https://colab.research.google.com/github/jo744669/AI/blob/main/HW3/Problem1.ipynb\" target=\"_parent\"><img src=\"https://colab.research.google.com/assets/colab-badge.svg\" alt=\"Open In Colab\"/></a>"
      ]
    },
    {
      "cell_type": "code",
      "execution_count": 16,
      "metadata": {
        "id": "dOH9x8H7NTyh"
      },
      "outputs": [],
      "source": [
        "from collections import deque\n",
        "\n",
        "# Start the graph search from root using a doubly-ended queue\n",
        "\n",
        "def FindFriends(graph, root, level):\n",
        "\n",
        "    # deque is list-like container with fast appends and pops on either end\n",
        "    visited, queue = set(), deque([root])\n",
        "    visited.add(root)\n",
        "    k = 0 #to hold the current level\n",
        "    n = 0 #to hold number of neighbors of node\n",
        "\n",
        "    #only repeat until reach desired level\n",
        "    while queue:\n",
        "\n",
        "      # Dequeue a vertex from queue\n",
        "      vertex = queue.popleft()\n",
        "\n",
        "      #hold number of neighbors to know when to increase level\n",
        "      if n == 0:\n",
        "        n = len(graph[vertex])\n",
        "\n",
        "      # If not visited, mark it as visited, and enqueue it\n",
        "      for neighbor in graph[vertex]:\n",
        "          if neighbor not in visited:\n",
        "              visited.add(neighbor)\n",
        "              queue.append(neighbor)\n",
        "\n",
        "      n = n - 1 #drop for iteration of level\n",
        "      if n == 0: #if iterated through all neighbors of level, increase level\n",
        "        k = k + 1\n",
        "\n",
        "      if k == level:\n",
        "          #print out remainder from queue\n",
        "          for x in queue:\n",
        "            print(x, end=\" \")\n",
        "          break\n"
      ]
    },
    {
      "cell_type": "code",
      "source": [
        "#Testing the social network and representing it as a adjacency list\n",
        "graph1 = {\n",
        "  'Bob' : ['Richard','Rob', 'Pam'],\n",
        "  'Pam' : ['Roger', 'Peter'],\n",
        "  'Roger' : ['Anna'],\n",
        "  'Peter' : ['Amy'],\n",
        "  'Richard' : [],\n",
        "  'Rob' : [],\n",
        "  'Anna' : [],\n",
        "  'Amy' : []\n",
        "}\n",
        "\n",
        "FindFriends(graph1, 'Bob', 3)"
      ],
      "metadata": {
        "colab": {
          "base_uri": "https://localhost:8080/"
        },
        "id": "JpF49jmvRn9F",
        "outputId": "ae9b647d-893a-44fa-f0ba-04fe534dc412"
      },
      "execution_count": 17,
      "outputs": [
        {
          "output_type": "stream",
          "name": "stdout",
          "text": [
            "Anna Amy "
          ]
        }
      ]
    },
    {
      "cell_type": "markdown",
      "source": [
        "Author: Jillian O'Connell\n",
        "\n",
        "Purpose: Use the BFS algorithm to return the kth level friend for a given user and graph\n",
        "\n",
        "BFS can be used to:\n",
        "*   Find the friends of all of the people in the network\n",
        "*   Find all of the mutual friends for a node in the network\n",
        "*   Find the nth level friend for a node in the network\n",
        "\n"
      ],
      "metadata": {
        "id": "3PBTR_aeNXFv"
      }
    }
  ]
}