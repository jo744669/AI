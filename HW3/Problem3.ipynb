{
  "nbformat": 4,
  "nbformat_minor": 0,
  "metadata": {
    "colab": {
      "provenance": [],
      "authorship_tag": "ABX9TyNy9yETKx/6Tz1lRqKEJ+Vk",
      "include_colab_link": true
    },
    "kernelspec": {
      "name": "python3",
      "display_name": "Python 3"
    },
    "language_info": {
      "name": "python"
    }
  },
  "cells": [
    {
      "cell_type": "markdown",
      "metadata": {
        "id": "view-in-github",
        "colab_type": "text"
      },
      "source": [
        "<a href=\"https://colab.research.google.com/github/jo744669/AI/blob/main/HW3/Problem3.ipynb\" target=\"_parent\"><img src=\"https://colab.research.google.com/assets/colab-badge.svg\" alt=\"Open In Colab\"/></a>"
      ]
    },
    {
      "cell_type": "code",
      "execution_count": 49,
      "metadata": {
        "id": "ugAZhXLPSMVw"
      },
      "outputs": [],
      "source": [
        "from collections import deque\n",
        "\n",
        "# Start the graph search from root\n",
        "\n",
        "def DFS(graph, start, goal, visited=None):\n",
        "\n",
        "    # initializing list of all places\n",
        "    if visited == None:\n",
        "      visited = set()\n",
        "\n",
        "    # add the current location to the visited list if not already there\n",
        "    if start not in visited:\n",
        "      visited.add(start)\n",
        "\n",
        "    # if found the goal, success\n",
        "    if start == goal:\n",
        "       return \"SUCCESS\"\n",
        "\n",
        "    #add first neighbor to queue only if not same as previous space\n",
        "    for neighbor in graph[start]:\n",
        "      if neighbor not in visited:\n",
        "        success = DFS(graph, neighbor, goal, visited)\n",
        "        if success == \"SUCCESS\":\n",
        "          return \"SUCCESS\"\n",
        "\n",
        "    return \"FAILURE\""
      ]
    },
    {
      "cell_type": "code",
      "source": [
        "graph1 = {\n",
        "    0 : [1, 10],\n",
        "    1 : [0, 2],\n",
        "    2 : [1, 12],\n",
        "    3 : [13, 4],\n",
        "    4 : [3, 5],\n",
        "    5 : [4, 15],\n",
        "    6 : [16, 7],\n",
        "    7 : [6, 8],\n",
        "    8 : [7, 9],\n",
        "    9 : [8, 19],\n",
        "    10 : [0, 20],\n",
        "    11 : [12],\n",
        "    12 : [11, 2],\n",
        "    13 : [3, 14],\n",
        "    14 : [13, 24],\n",
        "    15 : [5, 16],\n",
        "    16 : [15, 6, 26],\n",
        "    17 : [27],\n",
        "    18 : [19, 28],\n",
        "    19 : [18, 9],\n",
        "    20 : [10, 21],\n",
        "    21 : [20, 31],\n",
        "    22 : [32, 23],\n",
        "    23 : [22],\n",
        "    24 : [14, 25, 34],\n",
        "    25 : [24, 35],\n",
        "    26 : [16, 27],\n",
        "    27 : [26, 17],\n",
        "    28 : [18, 38],\n",
        "    29 : [39],\n",
        "    30 : [31, 40],\n",
        "    31 : [30, 21, 32],\n",
        "    32 : [22, 31],\n",
        "    33 : [43, 34],\n",
        "    34 : [24, 33, 44],\n",
        "    35 : [25, 36],\n",
        "    36 : [35],\n",
        "    37 : [47, 38],\n",
        "    38 : [28, 37, 39],\n",
        "    39 : [38, 29],\n",
        "    40 : [30, 41],\n",
        "    41 : [40, 42],\n",
        "    42 : [41, 43],\n",
        "    43 : [42, 33],\n",
        "    44 : [34, 45],\n",
        "    45 : [44],\n",
        "    46 : [47],\n",
        "    47 : [46, 37, 48],\n",
        "    48 : [47, 49],\n",
        "    49 : [48]\n",
        "}\n",
        "\n",
        "graph2 = {\n",
        "    0 : [1, 10],\n",
        "    1 : [0, 2],\n",
        "    2 : [1, 12],\n",
        "    3 : [13, 4],\n",
        "    4 : [3, 5],\n",
        "    5 : [4, 15],\n",
        "    6 : [16, 7],\n",
        "    7 : [6, 8],\n",
        "    8 : [7, 9],\n",
        "    9 : [8, 19],\n",
        "    10 : [0, 20],\n",
        "    11 : [12],\n",
        "    12 : [11, 2],\n",
        "    13 : [3, 14],\n",
        "    14 : [13, 24],\n",
        "    15 : [5, 16],\n",
        "    16 : [15, 6, 26],\n",
        "    17 : [27],\n",
        "    18 : [19, 28],\n",
        "    19 : [18, 9],\n",
        "    20 : [10, 21],\n",
        "    21 : [20],\n",
        "    22 : [32, 23],\n",
        "    23 : [22],\n",
        "    24 : [14, 25, 34],\n",
        "    25 : [24, 35],\n",
        "    26 : [16, 27],\n",
        "    27 : [26, 17],\n",
        "    28 : [18, 38],\n",
        "    29 : [39],\n",
        "    30 : [31, 40],\n",
        "    31 : [30, 32],\n",
        "    32 : [22, 31],\n",
        "    33 : [43, 34],\n",
        "    34 : [24, 33, 44],\n",
        "    35 : [25, 36],\n",
        "    36 : [35],\n",
        "    37 : [47, 38],\n",
        "    38 : [28, 37, 39],\n",
        "    39 : [38, 29],\n",
        "    40 : [30, 41],\n",
        "    41 : [40, 42],\n",
        "    42 : [41, 43],\n",
        "    43 : [42, 33],\n",
        "    44 : [34, 45],\n",
        "    45 : [44],\n",
        "    46 : [47],\n",
        "    47 : [46, 37, 48],\n",
        "    48 : [47, 49],\n",
        "    49 : [48]\n",
        "}\n",
        "\n",
        "DFS(graph1, 0, 49)\n",
        "DFS(graph2, 0, 49)"
      ],
      "metadata": {
        "colab": {
          "base_uri": "https://localhost:8080/",
          "height": 36
        },
        "id": "F7qNtLoXXZmC",
        "outputId": "148c3b71-f526-49c0-b3aa-d62961681ca4"
      },
      "execution_count": 48,
      "outputs": [
        {
          "output_type": "execute_result",
          "data": {
            "text/plain": [
              "'FAILURE'"
            ],
            "application/vnd.google.colaboratory.intrinsic+json": {
              "type": "string"
            }
          },
          "metadata": {},
          "execution_count": 48
        }
      ]
    },
    {
      "cell_type": "markdown",
      "source": [
        "Author: Jillian O'Connell\n",
        "\n",
        "Purpose: Use the DFS algorithm to find if there is a solution to the given maze"
      ],
      "metadata": {
        "id": "YFf7rxGKS45X"
      }
    }
  ]
}