{
  "nbformat": 4,
  "nbformat_minor": 0,
  "metadata": {
    "colab": {
      "provenance": [],
      "authorship_tag": "ABX9TyMv5COIkmNRcAbnUGg7U9cR",
      "include_colab_link": true
    },
    "kernelspec": {
      "name": "python3",
      "display_name": "Python 3"
    },
    "language_info": {
      "name": "python"
    }
  },
  "cells": [
    {
      "cell_type": "markdown",
      "metadata": {
        "id": "view-in-github",
        "colab_type": "text"
      },
      "source": [
        "<a href=\"https://colab.research.google.com/github/jo744669/AI/blob/main/HW3/Problem2.ipynb\" target=\"_parent\"><img src=\"https://colab.research.google.com/assets/colab-badge.svg\" alt=\"Open In Colab\"/></a>"
      ]
    },
    {
      "cell_type": "code",
      "execution_count": 9,
      "metadata": {
        "id": "uvIjbZCeNHVm"
      },
      "outputs": [],
      "source": [
        "from collections import deque\n",
        "\n",
        "# Start the graph search from root using a doubly-ended queue\n",
        "\n",
        "def PotentialFriends(graph, root):\n",
        "\n",
        "    # deque is list-like container with fast appends and pops on either end\n",
        "    visited, queue = set(), deque([root])\n",
        "    visited.add(root)\n",
        "    friends = set()\n",
        "\n",
        "    # Keep exploring as long as the queue is not empty\n",
        "    while queue:\n",
        "\n",
        "        # Dequeue a vertex from queue\n",
        "        vertex = queue.popleft()\n",
        "\n",
        "        # If not visited, mark it as visited, and enqueue it\n",
        "        for neighbor in graph[vertex]:\n",
        "            if neighbor not in visited:\n",
        "                visited.add(neighbor)\n",
        "                queue.append(neighbor)\n",
        "\n",
        "    #check visited queue and compare to those connected to root\n",
        "    while visited:\n",
        "\n",
        "      #dequeue from visited queue\n",
        "      friend = visited.pop()\n",
        "\n",
        "      #check whether or not directly connected to root, print if not\n",
        "      if friend not in graph[root]:\n",
        "        if friend != root:\n",
        "            friends.add(friend)\n",
        "\n",
        "    return friends"
      ]
    },
    {
      "cell_type": "code",
      "source": [
        "#Testing the social network and representing it as a adjacency list\n",
        "graph1 = {\n",
        "  'Adam' : ['Maria'],\n",
        "  'Maria' : ['Adam', 'Maya', 'Sophia', 'David'],\n",
        "  'David' : ['Maya', 'Maria'],\n",
        "  'Maya' : ['Maria', 'David', 'Sophia'],\n",
        "  'Sophia' : ['Maria', 'Maya']\n",
        "}\n",
        "\n",
        "PotentialFriends(graph1, 'Sophia')"
      ],
      "metadata": {
        "colab": {
          "base_uri": "https://localhost:8080/"
        },
        "id": "6rmYYWO5Pq08",
        "outputId": "f6eab16b-525d-49e4-bc56-9f79b4a0c3cd"
      },
      "execution_count": 11,
      "outputs": [
        {
          "output_type": "execute_result",
          "data": {
            "text/plain": [
              "{'Adam', 'David'}"
            ]
          },
          "metadata": {},
          "execution_count": 11
        }
      ]
    },
    {
      "cell_type": "markdown",
      "source": [
        "Author: Jillian O'Connell\n",
        "\n",
        "Purpose: Use the BFS algorithm to discover potentially missing immediate connections in a network"
      ],
      "metadata": {
        "id": "3tsQCl9FNMsD"
      }
    }
  ]
}