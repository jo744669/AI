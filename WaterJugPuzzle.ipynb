{
  "nbformat": 4,
  "nbformat_minor": 0,
  "metadata": {
    "colab": {
      "provenance": [],
      "authorship_tag": "ABX9TyMUjYqy9Wx6iUxoFaFtZFkj",
      "include_colab_link": true
    },
    "kernelspec": {
      "name": "python3",
      "display_name": "Python 3"
    },
    "language_info": {
      "name": "python"
    }
  },
  "cells": [
    {
      "cell_type": "markdown",
      "metadata": {
        "id": "view-in-github",
        "colab_type": "text"
      },
      "source": [
        "<a href=\"https://colab.research.google.com/github/jo744669/AI/blob/main/WaterJugPuzzle.ipynb\" target=\"_parent\"><img src=\"https://colab.research.google.com/assets/colab-badge.svg\" alt=\"Open In Colab\"/></a>"
      ]
    },
    {
      "cell_type": "code",
      "execution_count": null,
      "metadata": {
        "id": "OXL95d32pgl1"
      },
      "outputs": [],
      "source": []
    },
    {
      "cell_type": "markdown",
      "source": [
        "Assignment 2: Coding the Water Jug Puzzle in Python\n",
        "\n",
        "*   2 jugs of water: 5L and 3L\n",
        "*   Goal: 4L in the 5L jug\n",
        "*   Can fill and empty the jugs as much as you want\n",
        "*   Create state space representation and write the rules"
      ],
      "metadata": {
        "id": "6_M3lGMwpsji"
      }
    }
  ]
}